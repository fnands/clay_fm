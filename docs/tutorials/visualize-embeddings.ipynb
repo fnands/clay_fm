{
 "cells": [
  {
   "cell_type": "markdown",
   "id": "76ed0078-447f-4374-b6ba-a8b4a366188d",
   "metadata": {},
   "source": [
    "# Explore embedding space of CLAY Encoder for different sensors"
   ]
  },
  {
   "cell_type": "code",
   "execution_count": null,
   "id": "ea0176a6-97a1-4af6-af75-b9e52e52fbaf",
   "metadata": {},
   "outputs": [],
   "source": [
    "import sys\n",
    "import warnings\n",
    "\n",
    "sys.path.append(\"..\")\n",
    "warnings.filterwarnings(action=\"ignore\")"
   ]
  },
  {
   "cell_type": "code",
   "execution_count": null,
   "id": "5ea314d0-176a-4ee3-b738-6152d27275d9",
   "metadata": {},
   "outputs": [],
   "source": [
    "import matplotlib.pyplot as plt\n",
    "import numpy as np\n",
    "import torch\n",
    "from einops import rearrange\n",
    "\n",
    "from src.datamodule import ClayDataModule\n",
    "from src.model import ClayMAEModule"
   ]
  },
  {
   "cell_type": "code",
   "execution_count": null,
   "id": "37f4a735-18e6-48d7-9b58-e8d188e96b54",
   "metadata": {},
   "outputs": [],
   "source": [
    "DATA_DIR = \"/home/ubuntu/data\"\n",
    "CHECKPOINT_PATH = \"../checkpoints/v0.5.7/mae_v0.5.7_epoch-13_val-loss-0.3098.ckpt\"\n",
    "METADATA_PATH = \"../configs/metadata.yaml\"\n",
    "CHIP_SIZE = 224\n",
    "DEVICE = torch.device(\"cuda\") if torch.cuda.is_available() else torch.device(\"cpu\")"
   ]
  },
  {
   "cell_type": "markdown",
   "id": "4c300730-b0b0-4c3d-8a0d-d5e3ac018641",
   "metadata": {},
   "source": [
    "### MODEL\n",
    "\n",
    "Load the model with best checkpoint path and set it in eval mode."
   ]
  },
  {
   "cell_type": "code",
   "execution_count": null,
   "id": "4c5f2abf-5e9c-4def-88d9-38136307b420",
   "metadata": {},
   "outputs": [],
   "source": [
    "# As we want to visualize the embeddings from the model,\n",
    "# we neither mask the input image or shuffle the patches\n",
    "module = ClayMAEModule.load_from_checkpoint(\n",
    "    checkpoint_path=CHECKPOINT_PATH,\n",
    "    metadata_path=METADATA_PATH,\n",
    "    mask_ratio=0.0,\n",
    "    shuffle=False,\n",
    ")\n",
    "\n",
    "module.eval();"
   ]
  },
  {
   "cell_type": "markdown",
   "id": "9e51af6f-c07e-4c9b-8706-5e6fac8b136b",
   "metadata": {},
   "source": [
    "### DATAMODULE\n",
    "\n",
    "Load the ClayDataModule"
   ]
  },
  {
   "cell_type": "code",
   "execution_count": null,
   "id": "284cc736-6b06-4fb3-b639-5e3db701fe0d",
   "metadata": {},
   "outputs": [],
   "source": [
    "# For model training, we stack chips from one sensor into batches of size 128.\n",
    "# This reduces the num_workers we need to load the batches and speeds up the\n",
    "# training process. Here, although the batch size is 1, the data module reads\n",
    "# batch of size 128.\n",
    "dm = ClayDataModule(\n",
    "    data_dir=DATA_DIR,\n",
    "    metadata_path=METADATA_PATH,\n",
    "    size=CHIP_SIZE,\n",
    "    batch_size=1,\n",
    "    num_workers=1,\n",
    ")\n",
    "dm.setup(stage=\"fit\")"
   ]
  },
  {
   "cell_type": "markdown",
   "id": "cf1d0ff6-22a8-458c-b477-48427f41054f",
   "metadata": {},
   "source": [
    "Let us look at the data directory.\n",
    "\n",
    "We have a folder for each sensor, i.e:\n",
    "- Landsat l1\n",
    "- Landsat l2\n",
    "- Sentinel 1 rtc\n",
    "- Sentinel 2 l2a\n",
    "- Naip\n",
    "- Linz\n",
    "\n",
    "And, under each folder, we have stacks of chips as `.npz` files."
   ]
  },
  {
   "cell_type": "code",
   "execution_count": null,
   "id": "c1c32b76-4ada-4591-bbd4-d2ff25b70b81",
   "metadata": {},
   "outputs": [],
   "source": [
    "!tree -L 1 {DATA_DIR}"
   ]
  },
  {
   "cell_type": "code",
   "execution_count": null,
   "id": "39eca6e8-1660-4dbf-bc02-a88448033964",
   "metadata": {},
   "outputs": [],
   "source": [
    "!tree -L 2 {DATA_DIR}/naip | head -5"
   ]
  },
  {
   "cell_type": "markdown",
   "id": "fa87235a-2f83-46a4-9404-7dc4638be04a",
   "metadata": {},
   "source": [
    "Now, lets look at what we have in each of the `.npz` files."
   ]
  },
  {
   "cell_type": "code",
   "execution_count": null,
   "id": "7662fd9f-3bc5-41e7-9ef0-c921f2d2a4a8",
   "metadata": {},
   "outputs": [],
   "source": [
    "sample = np.load(\"/home/ubuntu/data/naip/cube_10.npz\")"
   ]
  },
  {
   "cell_type": "code",
   "execution_count": null,
   "id": "2876b209-ee81-436b-9b7d-71bff362b972",
   "metadata": {},
   "outputs": [],
   "source": [
    "sample.keys()"
   ]
  },
  {
   "cell_type": "code",
   "execution_count": null,
   "id": "63ac7c15-aa43-4a88-9008-91352c471356",
   "metadata": {},
   "outputs": [],
   "source": [
    "sample[\"pixels\"].shape"
   ]
  },
  {
   "cell_type": "code",
   "execution_count": null,
   "id": "4cc417ab-ddac-41da-a761-b9c6c39dacc7",
   "metadata": {},
   "outputs": [],
   "source": [
    "sample[\"lat_norm\"].shape, sample[\"lon_norm\"].shape"
   ]
  },
  {
   "cell_type": "code",
   "execution_count": null,
   "id": "0db26a02-e980-4995-955a-e07786535757",
   "metadata": {},
   "outputs": [],
   "source": [
    "sample[\"week_norm\"].shape, sample[\"hour_norm\"].shape"
   ]
  },
  {
   "cell_type": "markdown",
   "id": "37ebe49c-8fe1-497d-916b-9cdef5c46de7",
   "metadata": {},
   "source": [
    "As we see above, chips are stacked in batches of size `128`.  \n",
    "The sample we are looking at is from `NAIP` so it has 4 bands & of size `256 x 256`.  \n",
    "We also get normalized lat/lon & timestep (hour/week) information that is *(optionally required) by the model. If you don't have this handy, feel free to pass zero tensors in their place."
   ]
  },
  {
   "cell_type": "markdown",
   "id": "ca09b7cb-4d9b-4e70-8552-e5cb2d691b48",
   "metadata": {},
   "source": [
    "Load a batch of data from ClayDataModule\n",
    "\n",
    "ClayDataModule is designed to fetch random batches of data from different sensors sequentially, i.e batches are in ascending order of their directory - Landsat 1, Landsat 2, LINZ, NAIP, Sentinel 1 rtc, Sentinel 2 L2A and it repeats after that. "
   ]
  },
  {
   "cell_type": "code",
   "execution_count": null,
   "id": "16573391-5bed-4f59-a700-81ed32be78d4",
   "metadata": {},
   "outputs": [],
   "source": [
    "# We have a random sample subset of the data, so it's\n",
    "# okay to use either the train or val dataloader\n",
    "dl = iter(dm.train_dataloader())"
   ]
  },
  {
   "cell_type": "code",
   "execution_count": null,
   "id": "8a173a2f-b736-45b1-8eb2-3ecb37a6b256",
   "metadata": {},
   "outputs": [],
   "source": [
    "l1 = next(dl)\n",
    "l2 = next(dl)\n",
    "linz = next(dl)\n",
    "naip = next(dl)\n",
    "s1 = next(dl)\n",
    "s2 = next(dl)"
   ]
  },
  {
   "cell_type": "code",
   "execution_count": null,
   "id": "3a80c194-128b-48e7-af19-f9e97f7e1390",
   "metadata": {},
   "outputs": [],
   "source": [
    "for sensor, chips in zip(\n",
    "    (\"l1\", \"l2\", \"linz\", \"naip\", \"s1\", \"s2\"), (l1, l2, linz, naip, s1, s2)\n",
    "):\n",
    "    print(\n",
    "        f\"{chips['platform'][0]:<15}\",\n",
    "        chips[\"pixels\"].shape,\n",
    "        chips[\"time\"].shape,\n",
    "        chips[\"latlon\"].shape,\n",
    "    )"
   ]
  },
  {
   "cell_type": "markdown",
   "id": "bd7399d2-d411-4083-878b-6a93dbd2e973",
   "metadata": {},
   "source": [
    "### INPUT\n",
    "\n",
    "Model expects a dictionary with keys:\n",
    "- pixels:  `batch x band x height x width` - normalized chips of a sensor\n",
    "- time:    `batch x 4` - horizontally stacked `week_norm` & `hour_norm`\n",
    "- latlon:  `batch x 4` - horizontally stacked `lat_norm` & `lon_norm`\n",
    "- waves:   `list[:band]` - wavelengths of each band of the sensor from the `metadata.yaml` file\n",
    "- gsd:     `scalar` - gsd of the sensor from `metadata.yaml` file\n",
    "\n",
    "Normalization & stacking is taken care of by the ClayDataModule: https://github.com/Clay-foundation/model/blob/f872f098224d64677ed96b6a49974bb7ddef10dc/src/datamodule.py#L55-L72\n",
    "\n",
    "When not using the ClayDataModule, make sure you normalize the chips & pass all items for the model. "
   ]
  },
  {
   "cell_type": "code",
   "execution_count": null,
   "id": "3c32c82b-d7ea-42d4-a1cf-e0f8385b2731",
   "metadata": {},
   "outputs": [],
   "source": [
    "def create_batch(chips, wavelengths, gsd, device):\n",
    "    batch = {}\n",
    "\n",
    "    batch[\"pixels\"] = chips[\"pixels\"].to(device)\n",
    "    batch[\"time\"] = chips[\"time\"].to(device)\n",
    "    batch[\"latlon\"] = chips[\"latlon\"].to(device)\n",
    "\n",
    "    batch[\"waves\"] = torch.tensor(wavelengths)\n",
    "    batch[\"gsd\"] = torch.tensor(gsd)\n",
    "\n",
    "    return batch"
   ]
  },
  {
   "cell_type": "code",
   "execution_count": null,
   "id": "6a9acbf6-8f7a-4de4-ba1a-cca58e4bf893",
   "metadata": {},
   "outputs": [],
   "source": [
    "# Let us see an example of what input looks like for NAIP & Sentinel 2\n",
    "platform = \"naip\"\n",
    "metadata = dm.metadata[platform]\n",
    "wavelengths = list(metadata.bands.wavelength.values())\n",
    "gsd = metadata.gsd\n",
    "batch_naip = create_batch(naip, wavelengths, gsd, DEVICE)"
   ]
  },
  {
   "cell_type": "code",
   "execution_count": null,
   "id": "d9aa4f66-21c3-4cfd-8bd5-cc07d70d5854",
   "metadata": {},
   "outputs": [],
   "source": [
    "platform = \"sentinel-2-l2a\"\n",
    "metadata = dm.metadata[platform]\n",
    "wavelengths = list(metadata.bands.wavelength.values())\n",
    "gsd = metadata.gsd\n",
    "batch_s2 = create_batch(s2, wavelengths, gsd, DEVICE)"
   ]
  },
  {
   "cell_type": "markdown",
   "id": "e7c46bb7-3e25-454d-b345-1ca3ec1efb69",
   "metadata": {},
   "source": [
    "### FORWARD PASS - Clay Encoder"
   ]
  },
  {
   "cell_type": "code",
   "execution_count": null,
   "id": "cacbd7f3-1af4-474c-bfb7-caaa8f85adb3",
   "metadata": {},
   "outputs": [],
   "source": [
    "with torch.no_grad():\n",
    "    unmsk_patch_naip, *_ = module.model.encoder(batch_naip)\n",
    "    unmsk_patch_s2, *_ = module.model.encoder(batch_s2)"
   ]
  },
  {
   "cell_type": "code",
   "execution_count": null,
   "id": "c25e0d83-1894-4d08-8454-619117d1f7b7",
   "metadata": {},
   "outputs": [],
   "source": [
    "unmsk_patch_naip.shape, unmsk_patch_s2.shape"
   ]
  },
  {
   "cell_type": "markdown",
   "id": "1eda96fa-a2b3-4ff3-b90c-1075f6eb322f",
   "metadata": {},
   "source": [
    "ClayMAE model is trained using `patch_size` of `8`. For `chip_size` of `224 x 224`, we have\n",
    "\n",
    "224 // 8 -> 28 rows  \n",
    "224 // 8 -> 28 cols  \n",
    "\n",
    "28 * 28 -> 784 patches are passed through the forward pass of the model.  \n",
    "\n",
    "Here we see unmsk_patch shapes of size `batch x (1 + 784) x 768`, i.e  \n",
    "1   -> `cls_token`  \n",
    "784 -> patches  \n",
    "768 -> embedding dim  "
   ]
  },
  {
   "cell_type": "markdown",
   "id": "4006a5ef-38e1-4734-8d4e-e7536abd2e8c",
   "metadata": {},
   "source": [
    "### VISUALIZE EMBEDDINGS of NAIP"
   ]
  },
  {
   "cell_type": "code",
   "execution_count": null,
   "id": "1d96e377-247a-40c4-b72d-bcafdad372c4",
   "metadata": {},
   "outputs": [],
   "source": [
    "def denormalize_images(normalized_images, means, stds):\n",
    "    \"\"\"Denormalizes an image using its mean & std\"\"\"\n",
    "    means = np.array(means)\n",
    "    stds = np.array(stds)\n",
    "    means = means.reshape(1, -1, 1, 1)\n",
    "    stds = stds.reshape(1, -1, 1, 1)\n",
    "    denormalized_images = normalized_images * stds + means\n",
    "\n",
    "    return denormalized_images"
   ]
  },
  {
   "cell_type": "code",
   "execution_count": null,
   "id": "1b66fa0a-6c8a-421f-b598-e056aba50418",
   "metadata": {},
   "outputs": [],
   "source": [
    "naip_mean = list(dm.metadata[\"naip\"].bands.mean.values())\n",
    "naip_std = list(dm.metadata[\"naip\"].bands.std.values())\n",
    "\n",
    "batch_naip_pixels = batch_naip[\"pixels\"].detach().cpu().numpy()\n",
    "batch_naip_pixels = denormalize_images(batch_naip_pixels, naip_mean, naip_std)\n",
    "batch_naip_pixels = batch_naip_pixels.astype(np.uint8)"
   ]
  },
  {
   "cell_type": "markdown",
   "id": "cb005ce5-b5ad-49da-a110-e5dc83f0d60b",
   "metadata": {},
   "source": [
    "Plot first 24 chips that are fed to the model"
   ]
  },
  {
   "cell_type": "code",
   "execution_count": null,
   "id": "2040c794-63e9-42f9-ac8a-7be5a07adcd3",
   "metadata": {},
   "outputs": [],
   "source": [
    "fig, axs = plt.subplots(3, 8, figsize=(20, 8))\n",
    "\n",
    "for idx, ax in enumerate(axs.flatten()):\n",
    "    ax.imshow(batch_naip_pixels[idx, :3, ...].transpose(1, 2, 0))\n",
    "    ax.set_axis_off()\n",
    "    ax.set_title(idx)"
   ]
  },
  {
   "cell_type": "markdown",
   "id": "749a6dba",
   "metadata": {},
   "source": [
    "![Minicube visualization](https://github.com/Clay-foundation/model/assets/901647/c676f588-9369-41d4-862d-bbda84b14b45)"
   ]
  },
  {
   "cell_type": "markdown",
   "id": "1e07b370-8e6a-4b61-a620-727621aa8c39",
   "metadata": {},
   "source": [
    "Rearrange the embeddings from the Clay Encoder back to images.\n",
    "\n",
    "Embeddings are of shape: `batch x (1:cls_token + 784:patches) x 768:embedding dimension`  \n",
    "`784:patches` can be transformed into images of shape `28 x 28`  \n",
    "`768:embedding dimension` can be moved as channel dimension  \n",
    "Here, each embedding dims represents a particular unique feature of the chip"
   ]
  },
  {
   "cell_type": "code",
   "execution_count": null,
   "id": "f8d6a264-e2a0-454c-bf55-a963e8bcd661",
   "metadata": {},
   "outputs": [],
   "source": [
    "unmsk_embed = rearrange(\n",
    "    unmsk_patch_naip[:, 1:, :].detach().cpu().numpy(), \"b (h w) d-> b d h w\", h=28, w=28\n",
    ")"
   ]
  },
  {
   "cell_type": "markdown",
   "id": "12c91676-163a-4493-9dc2-3f99ec174d74",
   "metadata": {},
   "source": [
    "Pick a NAIP chip from the first 24 plotted above and visualize what each of the embedding dims look like for it. To prevent overflowing the notebook, lets plot the first 256 embedding dimensions. "
   ]
  },
  {
   "cell_type": "code",
   "execution_count": null,
   "id": "fabdbd1f-d571-489c-ab88-61665761603a",
   "metadata": {},
   "outputs": [],
   "source": [
    "embed = unmsk_embed[3]  # 3 is randomly picked chip\n",
    "fig, axs = plt.subplots(16, 16, figsize=(20, 20))\n",
    "\n",
    "for idx, ax in enumerate(axs.flatten()):\n",
    "    ax.imshow(embed[idx], cmap=\"bwr\")\n",
    "    ax.set_axis_off()\n",
    "    ax.set_title(idx)\n",
    "plt.tight_layout()"
   ]
  },
  {
   "cell_type": "markdown",
   "id": "7f41660a",
   "metadata": {},
   "source": [
    "![Minicube visualization](https://github.com/Clay-foundation/model/assets/901647/50d4dd3b-8f66-425e-8750-1c61ea59dace)"
   ]
  },
  {
   "cell_type": "markdown",
   "id": "09eefefa-8486-45c0-afaa-4d112e1ae666",
   "metadata": {},
   "source": [
    "As we see above, each embedding dimension represents a feature of the chip. Some are simple & easy to interpret for human eyes like edges, patterns, features like land & water - while some are more complex.  \n",
    "Now, lets pick one embedding from the `768` plotted above & visualize the same for all the chips."
   ]
  },
  {
   "cell_type": "code",
   "execution_count": null,
   "id": "1ced3f2f-fab9-4857-94b2-93caeefcb851",
   "metadata": {},
   "outputs": [],
   "source": [
    "fig, axs = plt.subplots(6, 8, figsize=(20, 14))\n",
    "embed_dim = 97  # pick any embedding dimension\n",
    "\n",
    "for i in range(0, 6, 2):\n",
    "    for j in range(8):\n",
    "        idx = (i // 2) * 8 + j\n",
    "        axs[i][j].imshow(batch_naip_pixels[idx, :3, ...].transpose(1, 2, 0))\n",
    "        axs[i][j].set_axis_off()\n",
    "        axs[i][j].set_title(f\"Image {idx}\")\n",
    "        embed = unmsk_embed[idx]\n",
    "        axs[i + 1][j].imshow(embed[embed_dim], cmap=\"gray\")\n",
    "        axs[i + 1][j].set_axis_off()\n",
    "        axs[i + 1][j].set_title(f\"Embed {idx}\")"
   ]
  },
  {
   "cell_type": "markdown",
   "id": "1cfc2c77",
   "metadata": {},
   "source": [
    "![Minicube visualization](https://github.com/Clay-foundation/model/assets/901647/1789ad43-7ac0-4b90-aff8-ba536d413435)"
   ]
  },
  {
   "cell_type": "markdown",
   "id": "fe341fd7-ecb2-4860-af94-a66d81a0ec3b",
   "metadata": {},
   "source": [
    "### VISUALIZE EMBEDDINGS of S2\n",
    "\n",
    "We will repeat the same set of steps for Sentinel 2 now."
   ]
  },
  {
   "cell_type": "code",
   "execution_count": null,
   "id": "9220c8f5-1735-4171-b838-ad8893e075c3",
   "metadata": {},
   "outputs": [],
   "source": [
    "s2_mean = list(dm.metadata[\"sentinel-2-l2a\"].bands.mean.values())\n",
    "s2_std = list(dm.metadata[\"sentinel-2-l2a\"].bands.std.values())\n",
    "\n",
    "batch_s2_pixels = batch_s2[\"pixels\"].detach().cpu().numpy()\n",
    "batch_s2_pixels = denormalize_images(batch_s2_pixels, s2_mean, s2_std)"
   ]
  },
  {
   "cell_type": "code",
   "execution_count": null,
   "id": "5c37824e-b54e-4e0e-bcf3-cbb04d5e27b1",
   "metadata": {},
   "outputs": [],
   "source": [
    "fig, axs = plt.subplots(3, 8, figsize=(20, 8))\n",
    "\n",
    "for idx, ax in enumerate(axs.flatten()):\n",
    "    ax.imshow(\n",
    "        np.clip(batch_s2_pixels[idx, [2, 1, 0], ...].transpose(1, 2, 0) / 2000, 0, 1)\n",
    "    )\n",
    "    ax.set_axis_off()\n",
    "    ax.set_title(idx)"
   ]
  },
  {
   "cell_type": "markdown",
   "id": "301241b9",
   "metadata": {},
   "source": [
    "![Minicube visualization](https://github.com/Clay-foundation/model/assets/901647/451314fc-72a2-45cb-803b-26c7b1a396da)"
   ]
  },
  {
   "cell_type": "code",
   "execution_count": null,
   "id": "25976d22-a61f-4e3a-8506-05791b287bf4",
   "metadata": {},
   "outputs": [],
   "source": [
    "unmsk_embed_s2 = rearrange(\n",
    "    unmsk_patch_s2[:, 1:, :].detach().cpu().numpy(), \"b (h w) d-> b d h w\", h=28, w=28\n",
    ")"
   ]
  },
  {
   "cell_type": "code",
   "execution_count": null,
   "id": "ea3e5622-5828-4243-b6cd-755bc78ea7a9",
   "metadata": {},
   "outputs": [],
   "source": [
    "embed_s2 = unmsk_embed_s2[8]\n",
    "fig, axs = plt.subplots(16, 16, figsize=(20, 20))\n",
    "\n",
    "for idx, ax in enumerate(axs.flatten()):\n",
    "    ax.imshow(embed_s2[idx], cmap=\"bwr\")\n",
    "    ax.set_axis_off()\n",
    "    ax.set_title(idx)\n",
    "plt.tight_layout()"
   ]
  },
  {
   "cell_type": "markdown",
   "id": "51ed623c",
   "metadata": {},
   "source": [
    "![Minicube visualization](https://github.com/Clay-foundation/model/assets/901647/57ac3b03-9617-4973-b0bd-02816bbf88b7)"
   ]
  },
  {
   "cell_type": "code",
   "execution_count": null,
   "id": "a87500c8-6019-47b6-9264-bc0ba2ac07ea",
   "metadata": {},
   "outputs": [],
   "source": [
    "fig, axs = plt.subplots(6, 8, figsize=(20, 14))\n",
    "embed_dim = 113\n",
    "\n",
    "for i in range(0, 6, 2):\n",
    "    for j in range(8):\n",
    "        idx = (i // 2) * 8 + j\n",
    "        axs[i][j].imshow(\n",
    "            np.clip(\n",
    "                batch_s2_pixels[idx, [2, 1, 0], ...].transpose(1, 2, 0) / 2000, 0, 1\n",
    "            )\n",
    "        )\n",
    "        axs[i][j].set_axis_off()\n",
    "        axs[i][j].set_title(f\"Image {idx}\")\n",
    "        embed_s2 = unmsk_embed_s2[idx]\n",
    "        axs[i + 1][j].imshow(embed_s2[embed_dim], cmap=\"gray\")\n",
    "        axs[i + 1][j].set_axis_off()\n",
    "        axs[i + 1][j].set_title(f\"Embed {idx}\")"
   ]
  },
  {
   "cell_type": "markdown",
   "id": "7ff62c22",
   "metadata": {},
   "source": [
    "![Minicube visualization](https://github.com/Clay-foundation/model/assets/901647/2dd7c81e-0a55-4649-bcec-00211132ebb4)"
   ]
  },
  {
   "cell_type": "markdown",
   "id": "cfc11a25-2cd8-4026-9b3b-41dd0df607a2",
   "metadata": {},
   "source": [
    "## Next steps\n",
    "\n",
    "- Visualize embeddings for other sensors that the model is trained on i.e Landsat, Sentinel-1, LINZ\n",
    "- Visualize embeddings for sensors that the model has not seen during training. As the model has seen imagery from 0.5cm to 30m resolution, feel free to pick a sensor that falls in or around this range. We will add support for other sensors in later release.\n",
    "- Pick embeddings that seem to solve your tasks & try doing segmentation or detection using classical computer vision (will be a fun exercise)."
   ]
  },
  {
   "cell_type": "code",
   "execution_count": null,
   "id": "2a478aa0-5f22-4dcd-9a95-0427b02af42d",
   "metadata": {},
   "outputs": [],
   "source": []
  }
 ],
 "metadata": {
  "language_info": {
   "name": "python",
   "pygments_lexer": "ipython3"
  }
 },
 "nbformat": 4,
 "nbformat_minor": 5
}
